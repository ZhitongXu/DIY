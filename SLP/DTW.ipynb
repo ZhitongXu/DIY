{
 "cells": [
  {
   "cell_type": "markdown",
   "metadata": {},
   "source": [
    "## 预处理与分析"
   ]
  },
  {
   "cell_type": "markdown",
   "metadata": {},
   "source": [
    "读取数据并处理后划分训练测试集\n",
    "* train：14位说话人的数据\n",
    "* test：其余2位说话人的数据\n",
    "\n",
    "使用librosa包进行mfcc特征提取\n",
    "* librosa.feature.mfcc()返回的结果是一个(n_mfcc, n_frame)的array\n",
    "* 模板的帧数与待测样本的帧数不一定相同，不过选取的特征维度需要相同，为了计算它们之间的欧氏距离\n",
    "* 这里都使用39维度的mfcc特征提取"
   ]
  },
  {
   "cell_type": "code",
   "execution_count": 22,
   "metadata": {},
   "outputs": [],
   "source": [
    "import os\n",
    "import librosa\n",
    "data = []\n",
    "for number in range(10):\n",
    "    tmp = []\n",
    "    mydir = 'C:/Users/Rhodia/Desktop/records/records/digit_' + str(number) + '/'\n",
    "    myfile = os.listdir(mydir)\n",
    "    for i in range(len(myfile)):\n",
    "        url = mydir + myfile[i]\n",
    "        y, sr = librosa.load(url,sr=16000)\n",
    "        mfccs = librosa.feature.mfcc(y=y,sr=sr,n_mfcc=39)\n",
    "        tmp.append(mfccs)\n",
    "    data.append(tmp)\n",
    "\n",
    "train = []\n",
    "test = []\n",
    "for i in range(len(data)):\n",
    "    train.append(data[i][0:14])\n",
    "    test.append(data[i][14:])\n",
    "\n",
    "final_train = []\n",
    "final_test = []\n",
    "\n",
    "no = 0\n",
    "for num in train:\n",
    "    for template in num:\n",
    "        final_train.append([template,no])\n",
    "    no += 1\n",
    "        \n",
    "no = 0\n",
    "for num in test:\n",
    "    for template in num:\n",
    "        final_test.append([template,no])\n",
    "    no += 1\n",
    "\n",
    "# print([len(final_train),len(final_test)])\n",
    "# [140, 20]"
   ]
  },
  {
   "cell_type": "markdown",
   "metadata": {},
   "source": [
    "训练集为每个英文数字的多个模板，将输入（测试集）与每一个模板都进行匹配，选择最佳匹配模板，它对应的数字就是该输入预测的结果"
   ]
  },
  {
   "cell_type": "markdown",
   "metadata": {},
   "source": [
    "## DTW算法实现"
   ]
  },
  {
   "cell_type": "code",
   "execution_count": 14,
   "metadata": {},
   "outputs": [],
   "source": [
    "%matplotlib inline\n",
    "import numpy as np\n",
    "import matplotlib.pyplot as plt\n",
    "\n",
    "def dist(a, b):\n",
    "    # calculate the Euclidean Distance between two frames\n",
    "    return np.sqrt(np.sum((a-b)**2))\n",
    "\n",
    "def genDistMat(mfcc1, mfcc2):\n",
    "    # generate a size (m, n) distance matrix\n",
    "    # m is the number of the input's frames\n",
    "    # n is the number of the template's frames\n",
    "    \n",
    "    x = mfcc1.T\n",
    "    y = mfcc2.T\n",
    "    m = np.shape(x)[0]\n",
    "    n = np.shape(y)[0]\n",
    "    \n",
    "    d = []\n",
    "    for i in range(m): #42\n",
    "        for j in range(n): #30\n",
    "            d.append(dist(x[i],y[j]))\n",
    "\n",
    "    d = np.mat(d).reshape(m,n)\n",
    "    return d\n",
    "    \n",
    "def genAccumulatedMat1(d):\n",
    "    # generate the accumulated distance matrix\n",
    "    \n",
    "    m = np.shape(d)[0]\n",
    "    n = np.shape(d)[1]\n",
    "    \n",
    "    D = np.zeros((m,n))\n",
    "    \n",
    "    # calculate the accumulated distance of the first row\n",
    "    D[0,0] = 2*d[0,0]\n",
    "    for i in range(1,m):\n",
    "        D[i,0] = d[i,0] + D[i-1,0]\n",
    "    for j in range(1,n):\n",
    "        D[0,j] = np.inf\n",
    "        \n",
    "    # calculate the rest rows' accumulated distance\n",
    "    for i in range(1,m):\n",
    "        for j in range(1,n):\n",
    "            current_d = d[i,j]\n",
    "            D3 = D[i-1,j] + current_d\n",
    "            D1 = D[i-1,j-1] + 2*current_d\n",
    "            D2 = np.inf\n",
    "            if i > 1:\n",
    "                D2 = D[i-2,j-1] + 3*current_d\n",
    "            D[i,j] = min([D1,D2,D3])\n",
    "    return D\n",
    "\n",
    "def getMinDist1(D):\n",
    "    # get the edit distance\n",
    "    \n",
    "    min_dist = D[-1,-1]/(np.shape(D)[0]+np.shape(D)[1]) # have to be normalized not sure how\n",
    "    return min_dist\n",
    "\n",
    "def getPath1(D):\n",
    "    # get the path from the right bottom of the accumulated matrix\n",
    "    \n",
    "    m, n = D.shape\n",
    "    path = [(m - 1, n - 1)]\n",
    "    while path[-1] != (0, 0):\n",
    "        i, j = path[-1]\n",
    "        if i == 0:\n",
    "            path.append((0, j - 1))\n",
    "        elif j == 0:\n",
    "            path.append((i - 1, 0))\n",
    "        else:\n",
    "            arr = np.array([D[i - 1][j - 1],\n",
    "                            D[i - 2][j - 1],\n",
    "                            D[i - 1][j    ]])\n",
    "            argmin = np.argmin(arr)\n",
    "            if argmin == 0:\n",
    "                path.append((i - 1, j - 1))\n",
    "            elif argmin == 1:\n",
    "                path.append((i - 2, j - 1))\n",
    "            else:\n",
    "                path.append((i - 1, j    ))\n",
    "    return path[::-1]\n",
    "\n",
    "def plotPath1(path):\n",
    "    # plot the path\n",
    "    \n",
    "    fig, ax = plt.subplots(figsize=(6, 6))\n",
    "    index1 = [x[0] for x in path]\n",
    "    index2 = [x[1] for x in path]\n",
    "    ax.plot(index1, index2)\n",
    "    xlab = \"template\"\n",
    "    ylab = \"input\"\n",
    "    ax.set_xlabel(xlab)\n",
    "    ax.set_ylabel(ylab)\n",
    "    plt.grid(True)\n",
    "\n",
    "    plt.show()\n",
    "    \n",
    "def genAccumulatedMat2(d):\n",
    "    # generate the accumulated distance matrix\n",
    "    \n",
    "    m = np.shape(d)[0]\n",
    "    n = np.shape(d)[1]\n",
    "    \n",
    "    D = np.zeros((m,n))\n",
    "    \n",
    "    # calculate the accumulated distance of the first row\n",
    "    D[0,0] = 2*d[0,0]\n",
    "    for j in range(1,n):\n",
    "        D[0,j] = d[0,j] + D[0,j-1]\n",
    "        \n",
    "    # calculate the rest rows' accumulated distance\n",
    "    for i in range(1,m):\n",
    "        for j in range(0,n):\n",
    "            current_d = d[i,j]\n",
    "            D1 = D[i-1,j] + current_d\n",
    "            D2 = np.inf; D3 = np.inf\n",
    "            if j > 1:\n",
    "                D2 = D[i-1,j-1] + 2*current_d\n",
    "                D3 = D[i,j-1] + current_d\n",
    "            D[i,j] = min([D1,D2,D3])\n",
    "    return D\n",
    "\n",
    "def getMinDist2(D):\n",
    "    # get the edit distance\n",
    "    \n",
    "    min_dist = D[-1,-1]/(np.shape(D)[0]+np.shape(D)[1]) # have to be normalized not sure how\n",
    "    return min_dist\n",
    "\n",
    "def getPath2(D):\n",
    "    # get the path from the right bottom of the accumulated matrix\n",
    "    \n",
    "    m, n = D.shape\n",
    "    path = [(m - 1, n - 1)]\n",
    "    while path[-1] != (0, 0):\n",
    "        i, j = path[-1]\n",
    "        if i == 0:\n",
    "            path.append((0, j - 1))\n",
    "        elif j == 0:\n",
    "            path.append((i - 1, 0))\n",
    "        else:\n",
    "            arr = np.array([D[i - 1][j    ],\n",
    "                            D[i - 1][j - 1],\n",
    "                            D[i    ][j - 1]])\n",
    "            argmin = np.argmin(arr)\n",
    "            if argmin == 0:\n",
    "                path.append((i - 1, j    ))\n",
    "            elif argmin == 1:\n",
    "                path.append((i - 1, j - 1))\n",
    "            else:\n",
    "                path.append((i    , j - 1))\n",
    "    return path[::-1]\n",
    "\n",
    "def plotPath2(path):\n",
    "    # plot the path\n",
    "    \n",
    "    fig, ax = plt.subplots(figsize=(6, 6))\n",
    "    index1 = [x[0] for x in path]\n",
    "    index2 = [x[1] for x in path]\n",
    "    ax.plot(index1, index2)\n",
    "    xlab = \"template\"\n",
    "    ylab = \"input\"\n",
    "    ax.set_xlabel(xlab)\n",
    "    ax.set_ylabel(ylab)\n",
    "    plt.grid(True)\n",
    "\n",
    "    plt.show()"
   ]
  },
  {
   "cell_type": "markdown",
   "metadata": {},
   "source": [
    "## 算法测试实例\n",
    "用\"1_0.wav\"和\"6_0.wav\"以及\"1_0.wav\"和\"2_9.wav\"进行测试"
   ]
  },
  {
   "cell_type": "markdown",
   "metadata": {},
   "source": [
    "### 压缩帧"
   ]
  },
  {
   "cell_type": "code",
   "execution_count": 15,
   "metadata": {},
   "outputs": [],
   "source": [
    "import librosa\n",
    "\n",
    "url1 = 'C:/Users/Rhodia/Desktop/records/records/digit_0/1_0.wav'         \n",
    "y1, sr1 = librosa.load(url1,sr=16000)          #sr:采样率\n",
    "mfccs1 = librosa.feature.mfcc(y=y1, sr=sr1,n_mfcc=39)\n",
    "\n",
    "url2 = 'C:/Users/Rhodia/Desktop/records/records/digit_0/6_0.wav'         \n",
    "y2, sr2 = librosa.load(url2,sr=16000)          #sr:采样率\n",
    "mfccs2 = librosa.feature.mfcc(y=y2, sr=sr2,n_mfcc=39)\n",
    "\n",
    "url3 = 'C:/Users/Rhodia/Desktop/records/records/digit_9/2_9.wav'         \n",
    "y3, sr3 = librosa.load(url3,sr=16000)          #sr:采样率\n",
    "mfccs3 = librosa.feature.mfcc(y=y3, sr=sr3,n_mfcc=39)"
   ]
  },
  {
   "cell_type": "code",
   "execution_count": 16,
   "metadata": {},
   "outputs": [
    {
     "name": "stdout",
     "output_type": "stream",
     "text": [
      "The minimum distance is:\n",
      "102.38693402264569\n"
     ]
    },
    {
     "data": {
      "image/png": "[encoded data removed]",
      "text/plain": [
       "<Figure size 432x432 with 1 Axes>"
      ]
     },
     "metadata": {
      "needs_background": "light"
     },
     "output_type": "display_data"
    },
    {
     "name": "stdout",
     "output_type": "stream",
     "text": [
      "The minimum distance is:\n",
      "122.34320233319256\n"
     ]
    },
    {
     "data": {
      "image/png": "[encoded data removed]",
      "text/plain": [
       "<Figure size 432x432 with 1 Axes>"
      ]
     },
     "metadata": {
      "needs_background": "light"
     },
     "output_type": "display_data"
    }
   ],
   "source": [
    "d = genDistMat(mfccs1,mfccs2)\n",
    "D = genAccumulatedMat1(d)\n",
    "editdist = getMinDist1(D)\n",
    "path = getPath1(D)\n",
    "print(\"The minimum distance is:\")\n",
    "print(editdist)\n",
    "plotPath1(path)\n",
    "\n",
    "d = genDistMat(mfccs1,mfccs3)\n",
    "D = genAccumulatedMat1(d)\n",
    "editdist = getMinDist1(D)\n",
    "path = getPath1(D)\n",
    "print(\"The minimum distance is:\")\n",
    "print(editdist)\n",
    "plotPath1(path)"
   ]
  },
  {
   "cell_type": "markdown",
   "metadata": {},
   "source": [
    "### 原始标准算法"
   ]
  },
  {
   "cell_type": "code",
   "execution_count": 18,
   "metadata": {},
   "outputs": [
    {
     "name": "stdout",
     "output_type": "stream",
     "text": [
      "The minimum distance is:\n",
      "86.04876760534339\n"
     ]
    },
    {
     "data": {
      "image/png": "[encoded data removed]",
      "text/plain": [
       "<Figure size 432x432 with 1 Axes>"
      ]
     },
     "metadata": {
      "needs_background": "light"
     },
     "output_type": "display_data"
    },
    {
     "name": "stdout",
     "output_type": "stream",
     "text": [
      "The minimum distance is:\n",
      "109.26084564827583\n"
     ]
    },
    {
     "data": {
      "image/png": "[encoded data removed]",
      "text/plain": [
       "<Figure size 432x432 with 1 Axes>"
      ]
     },
     "metadata": {
      "needs_background": "light"
     },
     "output_type": "display_data"
    }
   ],
   "source": [
    "d = genDistMat(mfccs1,mfccs2)\n",
    "D = genAccumulatedMat2(d)\n",
    "editdist = getMinDist2(D)\n",
    "path = getPath2(D)\n",
    "print(\"The minimum distance is:\")\n",
    "print(editdist)\n",
    "plotPath2(path)\n",
    "\n",
    "d = genDistMat(mfccs1,mfccs3)\n",
    "D = genAccumulatedMat2(d)\n",
    "editdist = getMinDist2(D)\n",
    "path = getPath2(D)\n",
    "print(\"The minimum distance is:\")\n",
    "print(editdist)\n",
    "plotPath2(path)"
   ]
  },
  {
   "cell_type": "markdown",
   "metadata": {},
   "source": [
    "## 单一模板"
   ]
  },
  {
   "cell_type": "code",
   "execution_count": 30,
   "metadata": {},
   "outputs": [
    {
     "name": "stdout",
     "output_type": "stream",
     "text": [
      "0.25\n",
      "The correct ones are:\n",
      "[0, 2, 6, 8, 9]\n"
     ]
    }
   ],
   "source": [
    "yes = 0\n",
    "summary = []\n",
    "for inputs in final_test:\n",
    "    distlist = []\n",
    "    for i in range(len(train)):\n",
    "        t = np.random.randint(0,len(train[i]))\n",
    "        d = genDistMat(inputs[0],train[i][t])\n",
    "        D = genAccumulatedMat1(d)\n",
    "        editdist = getMinDist1(D)\n",
    "        distlist.append(editdist)\n",
    "    res = distlist.index(min(distlist))\n",
    "    if inputs[1] == res:\n",
    "        yes += 1\n",
    "        summary.append(inputs[1])\n",
    "        \n",
    "correctness = 1.0*yes/len(final_test)\n",
    "print(correctness)\n",
    "print(\"The correct ones are:\")\n",
    "print(summary)"
   ]
  },
  {
   "cell_type": "markdown",
   "metadata": {},
   "source": [
    "## 多模板之与每一个都进行匹配"
   ]
  },
  {
   "cell_type": "markdown",
   "metadata": {},
   "source": [
    "### 测试集上的正确率"
   ]
  },
  {
   "cell_type": "code",
   "execution_count": 23,
   "metadata": {},
   "outputs": [
    {
     "name": "stdout",
     "output_type": "stream",
     "text": [
      "0.4\n",
      "The correct ones are:\n",
      "[0, 1, 1, 2, 2, 6, 9, 9]\n"
     ]
    }
   ],
   "source": [
    "#  frames been compressed\n",
    "yes = 0\n",
    "summary = []\n",
    "for inputs in final_test:\n",
    "    distlist = []\n",
    "    for template in final_train:\n",
    "        d = genDistMat(inputs[0],template[0])\n",
    "        D = genAccumulatedMat1(d)\n",
    "        editdist = getMinDist1(D)\n",
    "        distlist.append(editdist)\n",
    "    res = distlist.index(min(distlist))\n",
    "    if inputs[1] == final_train[res][1]:\n",
    "        yes += 1\n",
    "        summary.append(inputs[1])\n",
    "        \n",
    "correctness = 1.0*yes/len(final_test)\n",
    "print(correctness)\n",
    "print(\"The correct ones are:\")\n",
    "print(summary)"
   ]
  },
  {
   "cell_type": "code",
   "execution_count": 25,
   "metadata": {},
   "outputs": [
    {
     "name": "stdout",
     "output_type": "stream",
     "text": [
      "0.65\n",
      "The correct ones are:\n",
      "[0, 1, 2, 2, 3, 4, 4, 6, 6, 7, 8, 8, 9]\n"
     ]
    }
   ],
   "source": [
    "# original version\n",
    "yes = 0\n",
    "summary = []\n",
    "for inputs in final_test:\n",
    "    distlist = []\n",
    "    for template in final_train:\n",
    "        d = genDistMat(inputs[0],template[0])\n",
    "        D = genAccumulatedMat2(d)\n",
    "        editdist = getMinDist2(D)\n",
    "        distlist.append(editdist)\n",
    "    res = distlist.index(min(distlist))\n",
    "    if inputs[1] == final_train[res][1]:\n",
    "        yes += 1\n",
    "        summary.append(inputs[1])\n",
    "        \n",
    "correctness = 1.0*yes/len(final_test)\n",
    "print(correctness)\n",
    "print(\"The correct ones are:\")\n",
    "print(summary)"
   ]
  },
  {
   "cell_type": "markdown",
   "metadata": {},
   "source": [
    "## 结论\n",
    "\n",
    "使用不同路径方式得到单一模板baseline模型总体的正确率分别为0.25，多模板的每一个样本都进行匹配模型的总体正确率分别为0.4和0.65，可见多模板效果明显优于单一模板，并且使用压缩帧数的路径搜寻方式没有标准的搜寻方式效果好"
   ]
  },
  {
   "cell_type": "markdown",
   "metadata": {},
   "source": [
    "## 提高模板"
   ]
  },
  {
   "cell_type": "markdown",
   "metadata": {},
   "source": [
    "### Template Averaging\n",
    "\n",
    "taking the average of all available templates\n",
    "\n",
    "* pick one template as a master\n",
    "\n",
    "* align all other templates to it\n",
    "    \n",
    "* use the alignments generated to compute their average\n"
   ]
  }
 ],
 "metadata": {
  "kernelspec": {
   "display_name": "Python 3",
   "language": "python",
   "name": "python3"
  },
  "language_info": {
   "codemirror_mode": {
    "name": "ipython",
    "version": 3
   },
   "file_extension": ".py",
   "mimetype": "text/x-python",
   "name": "python",
   "nbconvert_exporter": "python",
   "pygments_lexer": "ipython3",
   "version": "3.7.0"
  }
 },
 "nbformat": 4,
 "nbformat_minor": 4
}
